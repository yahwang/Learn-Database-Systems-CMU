{
 "cells": [
  {
   "cell_type": "markdown",
   "metadata": {},
   "source": [
    " "
   ]
  },
  {
   "cell_type": "markdown",
   "metadata": {},
   "source": [
    "[SQL 과제](https://15445.courses.cs.cmu.edu/fall2018/homework1/)"
   ]
  },
  {
   "cell_type": "markdown",
   "metadata": {},
   "source": [
    "### Quiz 2"
   ]
  },
  {
   "cell_type": "markdown",
   "metadata": {},
   "source": [
    "> ### Solution & My Query"
   ]
  },
  {
   "cell_type": "markdown",
   "metadata": {},
   "source": [
    "``` sql\n",
    "SELECT city, COUNT(1) as count\n",
    "FROM station\n",
    "GROUP BY city\n",
    "ORDER BY count, city;\n",
    "```"
   ]
  },
  {
   "cell_type": "markdown",
   "metadata": {},
   "source": [
    "### Quiz 3"
   ]
  },
  {
   "cell_type": "markdown",
   "metadata": {},
   "source": [
    "> ### Solution"
   ]
  },
  {
   "cell_type": "markdown",
   "metadata": {},
   "source": [
    "    On Postgres 10.6 : 7 secs + @"
   ]
  },
  {
   "cell_type": "markdown",
   "metadata": {},
   "source": [
    "``` sql\n",
    "select city_trip_cnt.city, round(city_trip_cnt.cnt * 1.0 / trip_cnt.cnt, 4) as ratio \n",
    "from (select city, count(distinct(id)) as cnt \n",
    "      from trip, station \n",
    "      where station_id = start_station_id or station_id = end_station_id \n",
    "      group by city) as city_trip_cnt, \n",
    "     (select count(*) as cnt from trip) as trip_cnt \n",
    "order by ratio desc, city asc;\n",
    "```"
   ]
  },
  {
   "cell_type": "markdown",
   "metadata": {},
   "source": [
    "> ### My Query"
   ]
  },
  {
   "cell_type": "markdown",
   "metadata": {},
   "source": [
    "    On Postgres 10.6 : 1 secs + @"
   ]
  },
  {
   "cell_type": "markdown",
   "metadata": {},
   "source": [
    "``` sql\n",
    "WITH cities(start_city, end_city) AS (\n",
    "\tSELECT a.city, b.city\n",
    "\tFROM (SELECT tr.id, st.city\n",
    "\t\t  FROM station st JOIN trip tr\n",
    "\t      ON st.station_id = tr.start_station_id) a \n",
    "          JOIN\n",
    "\t     (SELECT tr.id, st.city\n",
    "\t      FROM station st JOIN trip tr\n",
    "\t      ON st.station_id = tr.end_station_id) b\n",
    "          ON a.id = b.id), \n",
    "visited(city) AS (\n",
    "\tSELECT start_city\n",
    "\tFROM cities\n",
    "\tUNION ALL\n",
    "\tSELECT end_city\n",
    "\tFROM cities\n",
    "\tWHERE start_city != end_city)\n",
    "\n",
    "SELECT city, COUNT(1) as cnt, ROUND(1.0*COUNT(1) / (SELECT COUNT(1) FROM trip), 4) AS ratio\n",
    "FROM visited\n",
    "GROUP BY city\n",
    "ORDER BY ratio DESC, city;\n",
    "```"
   ]
  },
  {
   "cell_type": "markdown",
   "metadata": {},
   "source": [
    "먼저, station이 위치한 city와 조인이 필요함"
   ]
  },
  {
   "cell_type": "markdown",
   "metadata": {},
   "source": [
    "###  Quiz 4"
   ]
  },
  {
   "cell_type": "markdown",
   "metadata": {},
   "source": [
    "> ### Solution"
   ]
  },
  {
   "cell_type": "markdown",
   "metadata": {},
   "source": [
    "    On Postgres 10.6 : 2 secs + @"
   ]
  },
  {
   "cell_type": "markdown",
   "metadata": {},
   "source": [
    "``` sql\n",
    "with visit(station_id, station_name, city, cnt) as (\n",
    "    select station_id, station_name, city, count(id) as cnt \n",
    "    from trip, station \n",
    "    where station_id = start_station_id or station_id = end_station_id \n",
    "    group by station_id)\n",
    "\n",
    "select visit.city, visit.station_name, visit.cnt \n",
    "from visit where visit.cnt = (select max(cnt) from visit as max_visit \n",
    "                              where max_visit.city = visit.city) \n",
    "order by city;\n",
    "```"
   ]
  },
  {
   "cell_type": "markdown",
   "metadata": {},
   "source": [
    "> ### My Query"
   ]
  },
  {
   "cell_type": "markdown",
   "metadata": {},
   "source": [
    "    On Postgres 10.6 : 1 secs + @"
   ]
  },
  {
   "cell_type": "markdown",
   "metadata": {},
   "source": [
    "``` sql\n",
    "WITH stations(station_id) AS (\n",
    "    SELECT start_station_id\n",
    "    FROM trip\n",
    "    UNION ALL\n",
    "    SELECT end_station_id\n",
    "    FROM trip\n",
    "    WHERE start_station_id != end_station_id),\n",
    "stations_count AS (\n",
    "    SELECT st_info.station_name, st.station_id, st_info.city, COUNT(1) as cnt\n",
    "    FROM stations st JOIN station st_info\n",
    "    ON st.station_id = st_info.station_id\n",
    "    GROUP BY st_info.station_name, st.station_id, st_info.city\n",
    ")\n",
    "\n",
    "SELECT city, station_name, cnt\n",
    "FROM (SELECT *, \n",
    "      ROW_NUMBER() OVER (PARTITION BY city ORDER by cnt DESC) AS ranking\n",
    "      FROM stations_count) a\n",
    "WHERE ranking = 1;\n",
    "```"
   ]
  },
  {
   "cell_type": "markdown",
   "metadata": {},
   "source": [
    "### Quiz 7"
   ]
  },
  {
   "cell_type": "markdown",
   "metadata": {},
   "source": [
    "> ### Solution"
   ]
  },
  {
   "cell_type": "markdown",
   "metadata": {},
   "source": [
    "    On Postgres 10.6 : 6 secs + @"
   ]
  },
  {
   "cell_type": "markdown",
   "metadata": {},
   "source": [
    "``` sql\n",
    "select bike_id, count(distinct(city)) as cnt \n",
    "from trip, station \n",
    "where start_station_id = station_id or end_station_id = station_id \n",
    "group by bike_id \n",
    "having count(distinct(city)) > 1 \n",
    "order by cnt desc, bike_id asc;\n",
    "```"
   ]
  },
  {
   "cell_type": "markdown",
   "metadata": {},
   "source": [
    "> ### My Query"
   ]
  },
  {
   "cell_type": "markdown",
   "metadata": {},
   "source": [
    "    On Postgres 10.6 : 1 secs + @"
   ]
  },
  {
   "cell_type": "markdown",
   "metadata": {},
   "source": [
    "``` sql\n",
    "WITH stations(bike_id, station_id) AS (\n",
    "    SELECT bike_id, start_station_id\n",
    "    FROM trip\n",
    "    UNION ALL\n",
    "    SELECT bike_id, end_station_id\n",
    "    FROM trip),\n",
    "bikes_city(bike_id, visited) AS (\n",
    "    SELECT st.bike_id , COUNT(DISTINCT city)\n",
    "    FROM stations st JOIN station st_info\n",
    "    ON st.station_id = st_info.station_id\n",
    "    GROUP BY st.bike_id\n",
    ")\n",
    "\n",
    "\n",
    "SELECT *\n",
    "FROM bikes_city\n",
    "WHERE visited > 1\n",
    "ORDER BY visited DESC, bike_id;\n",
    "```"
   ]
  },
  {
   "cell_type": "markdown",
   "metadata": {},
   "source": [
    "### Quiz 8"
   ]
  },
  {
   "cell_type": "markdown",
   "metadata": {},
   "source": [
    "> ### Solution"
   ]
  },
  {
   "cell_type": "code",
   "execution_count": null,
   "metadata": {},
   "outputs": [],
   "source": [
    "with weather_days(events, cnt) as (\n",
    "    select w.events, count(distinct w.date) as cnt from weather w group by w.events\n",
    ")\n",
    "select w.events, round(cast(count(distinct t.id) as numeric)/cast(wd.cnt as numeric), 4) as avg \n",
    "from trip t, station s, weather w, weather_days wd\n",
    "where t.start_station_id = s.station_id and s.zip_code = w.zip_code and date(t.start_time) = w.date and w.events = wd.events\n",
    "group by w.events, wd.cnt\n",
    "order by avg desc, w.events asc;"
   ]
  }
 ],
 "metadata": {
  "kernelspec": {
   "display_name": "Python 3",
   "language": "python",
   "name": "python3"
  },
  "language_info": {
   "codemirror_mode": {
    "name": "ipython",
    "version": 3
   },
   "file_extension": ".py",
   "mimetype": "text/x-python",
   "name": "python",
   "nbconvert_exporter": "python",
   "pygments_lexer": "ipython3",
   "version": "3.6.7"
  }
 },
 "nbformat": 4,
 "nbformat_minor": 2
}
